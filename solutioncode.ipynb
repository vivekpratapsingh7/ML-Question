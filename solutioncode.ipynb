{
 "cells": [
  {
   "cell_type": "code",
   "execution_count": 13,
   "id": "d49c07ea",
   "metadata": {},
   "outputs": [
    {
     "name": "stdout",
     "output_type": "stream",
     "text": [
      "No relevant articles found.\n"
     ]
    }
   ],
   "source": [
    "import json\n",
    "import re\n",
    "from rank_bm25 import BM25Okapi\n",
    "from transformers import pipeline\n",
    "\n",
    "\n",
    "def load_and_clean_data(file_path):\n",
    "    with open(file_path, 'r', encoding='utf-8') as file:\n",
    "        articles = json.load(file)\n",
    "    \n",
    "    cleaned_articles = []\n",
    "    for article in articles:\n",
    "        text = article.get('content', '')\n",
    "        text = re.sub(r'[^\\w\\s]', '', text)  \n",
    "        cleaned_articles.append(text)\n",
    "    return cleaned_articles\n",
    "\n",
    "\n",
    "def filter_relevant_articles(articles):\n",
    "    relevant_articles = [article for article in articles if 'Israel' in article  'Hamas' in article]\n",
    "    if not relevant_articles:\n",
    "        raise ValueError(\"No relevant articles found.\")\n",
    "    return relevant_articles\n",
    "\n",
    "\n",
    "def index_articles(articles):\n",
    "    if not articles:\n",
    "        raise ValueError(\"No relevant articles found.\")\n",
    "    tokenized_articles = [article.split() for article in articles]\n",
    "    bm25 = BM25Okapi(tokenized_articles)\n",
    "    return bm25\n",
    "\n",
    "\n",
    "def answer_question(bm25, articles, question, top_n=5):\n",
    "    tokenized_question = question.split()\n",
    "    doc_scores = bm25.get_scores(tokenized_question)\n",
    "    top_n_indices = doc_scores.argsort()[-top_n:][::-1]\n",
    "    relevant_articles = [articles[i] for i in top_n_indices]\n",
    "\n",
    "    qa_pipeline = pipeline(\"question-answering\")\n",
    "    answers = []\n",
    "    for article in relevant_articles:\n",
    "        answer = qa_pipeline({'question': question, 'context': article})\n",
    "        answers.append(answer['answer'])\n",
    "    return answers\n",
    "\n",
    "\n",
    "def main(file_path, question):\n",
    "    articles = load_and_clean_data(file_path)\n",
    "    relevant_articles = filter_relevant_articles(articles)\n",
    "    bm25 = index_articles(relevant_articles)\n",
    "    answers = answer_question(bm25, relevant_articles, question)\n",
    "    return answers\n",
    "\n",
    "\n",
    "file_path = 'news.article.json'  \n",
    "question = \"What happened at the Al-Shifa Hospital?\"\n",
    "try:\n",
    "    answers = main(file_path, question)\n",
    "    print(answers)\n",
    "except ValueError as e:\n",
    "    print(e)\n"
   ]
  },
  {
   "cell_type": "code",
   "execution_count": null,
   "id": "07d98426",
   "metadata": {},
   "outputs": [],
   "source": []
  }
 ],
 "metadata": {
  "kernelspec": {
   "display_name": "Python 3 (ipykernel)",
   "language": "python",
   "name": "python3"
  },
  "language_info": {
   "codemirror_mode": {
    "name": "ipython",
    "version": 3
   },
   "file_extension": ".py",
   "mimetype": "text/x-python",
   "name": "python",
   "nbconvert_exporter": "python",
   "pygments_lexer": "ipython3",
   "version": "3.11.5"
  }
 },
 "nbformat": 4,
 "nbformat_minor": 5
}
